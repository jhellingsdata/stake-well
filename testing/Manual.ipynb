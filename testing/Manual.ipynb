{
 "cells": [
  {
   "cell_type": "code",
   "execution_count": 2,
   "metadata": {},
   "outputs": [],
   "source": [
    "BalanceLog = {\n",
    "    'balance': int,\n",
    "    'timestamp': str\n",
    "}\n",
    "\n",
    "s_userTwabs = {\n",
    "    \n",
    "}"
   ]
  },
  {
   "cell_type": "code",
   "execution_count": 3,
   "metadata": {},
   "outputs": [
    {
     "ename": "TypeError",
     "evalue": "'dict' object is not callable",
     "output_type": "error",
     "traceback": [
      "\u001b[0;31m---------------------------------------------------------------------------\u001b[0m",
      "\u001b[0;31mTypeError\u001b[0m                                 Traceback (most recent call last)",
      "Cell \u001b[0;32mIn[3], line 1\u001b[0m\n\u001b[0;32m----> 1\u001b[0m s_userTwabs[\u001b[39m'\u001b[39m\u001b[39m0x94D6dA2fa4c056c1064130c6598930d52a6aC459\u001b[39m\u001b[39m'\u001b[39m] \u001b[39m=\u001b[39m [BalanceLog(\u001b[39m1000000000\u001b[39;49m, \u001b[39m1692549504\u001b[39;49m)]\n",
      "\u001b[0;31mTypeError\u001b[0m: 'dict' object is not callable"
     ]
    }
   ],
   "source": [
    "s_userTwabs['0x94D6dA2fa4c056c1064130c6598930d52a6aC459'] = [BalanceLog(1000000000, 1692549504)]"
   ]
  },
  {
   "cell_type": "markdown",
   "metadata": {},
   "source": [
    "Testing calculation of time-weighted average balance."
   ]
  },
  {
   "cell_type": "markdown",
   "metadata": {},
   "source": [
    "Here is the relevant code from the smart contract:"
   ]
  },
  {
   "cell_type": "markdown",
   "metadata": {},
   "source": [
    "```solidity\n",
    "   function calculateTwab(address userAddress, uint256 startTime, uint256 endTime) public view returns (uint256) {\n",
    "        BalanceLog[] storage twabs; // pointer to storage-based arrays\n",
    "        if (userAddress == address(0)) {\n",
    "            twabs = s_totalDepositTwabs;\n",
    "        } else {\n",
    "            twabs = s_userTwabs[userAddress];\n",
    "        }\n",
    "\n",
    "        uint256 precedingIndex = findPrecedingTimeStampIndex(twabs, startTime);\n",
    "\n",
    "        uint256 balanceCumulative = 0;\n",
    "        uint256 prevTimeStamp = startTime;\n",
    "        uint256 prevBalance = precedingIndex == type(uint256).max ? 0 : twabs[precedingIndex].balance;\n",
    "\n",
    "        // Reset precedingIndex for the loop if it was set to max value\n",
    "        if (precedingIndex == type(uint256).max) {\n",
    "            precedingIndex = ~precedingIndex; // This will set it to -1 when interpreted as a signed integer\n",
    "        }\n",
    "\n",
    "        for (uint256 i = precedingIndex + 1; i < twabs.length; i++) {\n",
    "            if (twabs[i].timestamp > endTime) {\n",
    "                break;\n",
    "            }\n",
    "\n",
    "            uint256 duration = uint256(twabs[i].timestamp - prevTimeStamp);\n",
    "            balanceCumulative += prevBalance * duration;\n",
    "\n",
    "            prevTimeStamp = twabs[i].timestamp;\n",
    "            prevBalance = twabs[i].balance;\n",
    "        }\n",
    "\n",
    "        uint256 finalDuration = uint256(endTime - prevTimeStamp);\n",
    "        balanceCumulative += prevBalance * finalDuration;\n",
    "\n",
    "        return balanceCumulative / (endTime - startTime);\n",
    "    }\n",
    "```"
   ]
  },
  {
   "cell_type": "code",
   "execution_count": 30,
   "metadata": {},
   "outputs": [],
   "source": [
    "t0 = {'balance': 10000000000000000, 'timestamp':1692549504}\n",
    "t1 = {'balance': 39999999999999999, 'timestamp':1692552312}\n",
    "t2 = {'balance': 20000000000000000, 'timestamp':1692552948}\n",
    "t3 = {'balance': 0, 'timestamp':1692553932}\n",
    "\n",
    "twabs = [t0, t1, t2, t3]"
   ]
  },
  {
   "cell_type": "code",
   "execution_count": 74,
   "metadata": {},
   "outputs": [],
   "source": [
    "t0 = {'balance': 14999999999999998, 'timestamp': 1692561996}\n",
    "\n",
    "twabs = [t0]"
   ]
  },
  {
   "cell_type": "code",
   "execution_count": 81,
   "metadata": {},
   "outputs": [],
   "source": [
    "startTime = 1692561994\n",
    "endTime = 1692562120"
   ]
  },
  {
   "cell_type": "code",
   "execution_count": 82,
   "metadata": {},
   "outputs": [],
   "source": [
    "balanceCumulative = 0\n",
    "prevTimeStamp = startTime\n",
    "prevBalance = 0\n",
    "precedingIndex = -1"
   ]
  },
  {
   "cell_type": "code",
   "execution_count": 63,
   "metadata": {},
   "outputs": [],
   "source": [
    "endTimes = [\n",
    "    1692556086,\n",
    "    1692557086,\n",
    "    1692569504,\n",
    "]\n",
    "\n",
    "endTime = endTimes[0]"
   ]
  },
  {
   "cell_type": "code",
   "execution_count": 83,
   "metadata": {},
   "outputs": [
    {
     "name": "stdout",
     "output_type": "stream",
     "text": [
      "0\n",
      "1.476190476190476e+16\n"
     ]
    }
   ],
   "source": [
    "loopStart = 0 if precedingIndex == -1 else precedingIndex + 1\n",
    "\n",
    "for i in range(loopStart, 1):\n",
    "    duration = twabs[i]['timestamp'] - prevTimeStamp\n",
    "    balanceCumulative += prevBalance * duration\n",
    "\n",
    "    prevTimeStamp = twabs[i]['timestamp']\n",
    "    prevBalance = twabs[i]['balance']\n",
    "\n",
    "    print(balanceCumulative)\n",
    "\n",
    "finalDuration = (endTime - prevTimeStamp)\n",
    "balanceCumulative += prevBalance * finalDuration\n",
    "\n",
    "print(balanceCumulative / (endTime - startTime))"
   ]
  },
  {
   "cell_type": "code",
   "execution_count": 1,
   "metadata": {},
   "outputs": [
    {
     "data": {
      "text/plain": [
       "604800"
      ]
     },
     "execution_count": 1,
     "metadata": {},
     "output_type": "execute_result"
    }
   ],
   "source": [
    "86400 * 7"
   ]
  },
  {
   "cell_type": "code",
   "execution_count": null,
   "metadata": {},
   "outputs": [],
   "source": []
  }
 ],
 "metadata": {
  "kernelspec": {
   "display_name": "datasci",
   "language": "python",
   "name": "python3"
  },
  "language_info": {
   "codemirror_mode": {
    "name": "ipython",
    "version": 3
   },
   "file_extension": ".py",
   "mimetype": "text/x-python",
   "name": "python",
   "nbconvert_exporter": "python",
   "pygments_lexer": "ipython3",
   "version": "3.9.15"
  },
  "orig_nbformat": 4
 },
 "nbformat": 4,
 "nbformat_minor": 2
}
