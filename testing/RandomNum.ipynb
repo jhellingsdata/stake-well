{
 "cells": [
  {
   "cell_type": "markdown",
   "metadata": {},
   "source": [
    "#### VRF Testing"
   ]
  },
  {
   "cell_type": "markdown",
   "metadata": {},
   "source": [
    "\n",
    "\n",
    "**After receiving random word:**\n",
    "\n",
    "1. Calculate the sum of all TWABs for the time period of interest (let's call this **`totalTWAB`**).\n",
    "2. Scale the random number from Chainlink VRF to the range **`[0, totalTWAB]`**. This can be done by taking the modulo of the random number with **`totalTWAB`**. This will give you a \"ticket number\" in the virtual array.\n",
    "3. Iterate over your users, summing their TWABs, until the sum exceeds the ticket number. The current user is the winner."
   ]
  },
  {
   "cell_type": "code",
   "execution_count": 15,
   "metadata": {},
   "outputs": [],
   "source": [
    "# Examples Chainlink VRF random word for testing\n",
    "ran_word = 78541660797044910968829902406342334108369226379826116161446442989268089806461"
   ]
  },
  {
   "cell_type": "code",
   "execution_count": 16,
   "metadata": {},
   "outputs": [],
   "source": [
    "# Example total sum of time-weighted average balance (TWAB) of all users\n",
    "totalTWAB = 19002163112735542"
   ]
  },
  {
   "cell_type": "code",
   "execution_count": 13,
   "metadata": {},
   "outputs": [
    {
     "data": {
      "text/plain": [
       "2"
      ]
     },
     "execution_count": 13,
     "metadata": {},
     "output_type": "execute_result"
    }
   ],
   "source": [
    "1324929049050242 % 5"
   ]
  },
  {
   "cell_type": "markdown",
   "metadata": {},
   "source": [
    "The remainder is the effective ticket number for the raffle."
   ]
  },
  {
   "cell_type": "markdown",
   "metadata": {},
   "source": [
    "Now, to find the winner, we need to iterate over the players and sum the time-weighted average balance (TWAB) until that rolling sum exceeds the ticker number. The player who exceeds the ticker number is the winner.\n",
    "\n",
    "The mod remainder will always be less than or equal to `totalTWAB`, so we will always be able to pick a winner, regardless of the total balance, number of players etc. "
   ]
  },
  {
   "cell_type": "code",
   "execution_count": null,
   "metadata": {},
   "outputs": [],
   "source": []
  }
 ],
 "metadata": {
  "kernelspec": {
   "display_name": "datasci",
   "language": "python",
   "name": "python3"
  },
  "language_info": {
   "codemirror_mode": {
    "name": "ipython",
    "version": 3
   },
   "file_extension": ".py",
   "mimetype": "text/x-python",
   "name": "python",
   "nbconvert_exporter": "python",
   "pygments_lexer": "ipython3",
   "version": "3.9.15"
  },
  "orig_nbformat": 4
 },
 "nbformat": 4,
 "nbformat_minor": 2
}
