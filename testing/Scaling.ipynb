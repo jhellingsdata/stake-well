{
 "cells": [
  {
   "cell_type": "code",
   "execution_count": 1,
   "metadata": {},
   "outputs": [],
   "source": [
    "import pandas as pd, seaborn as sns, matplotlib.pyplot as plt"
   ]
  },
  {
   "cell_type": "markdown",
   "metadata": {},
   "source": [
    "#### Investigate scaling of gas costs with contract usage"
   ]
  },
  {
   "cell_type": "markdown",
   "metadata": {},
   "source": [
    "We can define inline the manually recorded data from our Forge tests. There can be some variability in gas cost between tests, since the position of the winning user will determine the number of iterations with which the TWAB is calculated. To (slightly) improve our results, we can take the average of three runs for each test."
   ]
  },
  {
   "cell_type": "code",
   "execution_count": null,
   "metadata": {},
   "outputs": [],
   "source": [
    "data_opt1 = {\n",
    "    \n",
    "}"
   ]
  },
  {
   "cell_type": "code",
   "execution_count": 2,
   "metadata": {},
   "outputs": [
    {
     "data": {
      "text/html": [
       "<div>\n",
       "<style scoped>\n",
       "    .dataframe tbody tr th:only-of-type {\n",
       "        vertical-align: middle;\n",
       "    }\n",
       "\n",
       "    .dataframe tbody tr th {\n",
       "        vertical-align: top;\n",
       "    }\n",
       "\n",
       "    .dataframe thead th {\n",
       "        text-align: right;\n",
       "    }\n",
       "</style>\n",
       "<table border=\"1\" class=\"dataframe\">\n",
       "  <thead>\n",
       "    <tr style=\"text-align: right;\">\n",
       "      <th></th>\n",
       "      <th>User Count</th>\n",
       "      <th>Test 1</th>\n",
       "      <th>Test 2</th>\n",
       "      <th>Test 3</th>\n",
       "      <th>Average Gas</th>\n",
       "    </tr>\n",
       "  </thead>\n",
       "  <tbody>\n",
       "    <tr>\n",
       "      <th>0</th>\n",
       "      <td>10</td>\n",
       "      <td>235705</td>\n",
       "      <td>235705</td>\n",
       "      <td>235705</td>\n",
       "      <td>2.357050e+05</td>\n",
       "    </tr>\n",
       "    <tr>\n",
       "      <th>1</th>\n",
       "      <td>20</td>\n",
       "      <td>425560</td>\n",
       "      <td>432891</td>\n",
       "      <td>430735</td>\n",
       "      <td>4.297287e+05</td>\n",
       "    </tr>\n",
       "    <tr>\n",
       "      <th>2</th>\n",
       "      <td>30</td>\n",
       "      <td>614888</td>\n",
       "      <td>618338</td>\n",
       "      <td>615320</td>\n",
       "      <td>6.161820e+05</td>\n",
       "    </tr>\n",
       "    <tr>\n",
       "      <th>3</th>\n",
       "      <td>40</td>\n",
       "      <td>809918</td>\n",
       "      <td>804744</td>\n",
       "      <td>811212</td>\n",
       "      <td>8.086247e+05</td>\n",
       "    </tr>\n",
       "    <tr>\n",
       "      <th>4</th>\n",
       "      <td>50</td>\n",
       "      <td>994072</td>\n",
       "      <td>1008301</td>\n",
       "      <td>994072</td>\n",
       "      <td>9.988150e+05</td>\n",
       "    </tr>\n",
       "    <tr>\n",
       "      <th>5</th>\n",
       "      <td>60</td>\n",
       "      <td>1198923</td>\n",
       "      <td>1207978</td>\n",
       "      <td>1183400</td>\n",
       "      <td>1.196767e+06</td>\n",
       "    </tr>\n",
       "    <tr>\n",
       "      <th>6</th>\n",
       "      <td>70</td>\n",
       "      <td>1399127</td>\n",
       "      <td>1395246</td>\n",
       "      <td>1387484</td>\n",
       "      <td>1.393952e+06</td>\n",
       "    </tr>\n",
       "    <tr>\n",
       "      <th>7</th>\n",
       "      <td>80</td>\n",
       "      <td>1570344</td>\n",
       "      <td>1582418</td>\n",
       "      <td>1593629</td>\n",
       "      <td>1.582130e+06</td>\n",
       "    </tr>\n",
       "    <tr>\n",
       "      <th>8</th>\n",
       "      <td>90</td>\n",
       "      <td>1763984</td>\n",
       "      <td>1768728</td>\n",
       "      <td>1755792</td>\n",
       "      <td>1.762835e+06</td>\n",
       "    </tr>\n",
       "    <tr>\n",
       "      <th>9</th>\n",
       "      <td>100</td>\n",
       "      <td>1964524</td>\n",
       "      <td>1959349</td>\n",
       "      <td>1958056</td>\n",
       "      <td>1.960643e+06</td>\n",
       "    </tr>\n",
       "  </tbody>\n",
       "</table>\n",
       "</div>"
      ],
      "text/plain": [
       "   User Count   Test 1   Test 2   Test 3   Average Gas\n",
       "0          10   235705   235705   235705  2.357050e+05\n",
       "1          20   425560   432891   430735  4.297287e+05\n",
       "2          30   614888   618338   615320  6.161820e+05\n",
       "3          40   809918   804744   811212  8.086247e+05\n",
       "4          50   994072  1008301   994072  9.988150e+05\n",
       "5          60  1198923  1207978  1183400  1.196767e+06\n",
       "6          70  1399127  1395246  1387484  1.393952e+06\n",
       "7          80  1570344  1582418  1593629  1.582130e+06\n",
       "8          90  1763984  1768728  1755792  1.762835e+06\n",
       "9         100  1964524  1959349  1958056  1.960643e+06"
      ]
     },
     "execution_count": 2,
     "metadata": {},
     "output_type": "execute_result"
    }
   ],
   "source": [
    "# Create a DataFrame from the provided data\n",
    "data_opt2 = {\n",
    "    'User Count': [10, 20, 30, 40, 50, 60, 70, 80, 90, 100],\n",
    "    'Test 1': [235705, 425560, 614888, 809918, 994072, 1198923, 1399127, 1570344, 1763984, 1964524],\n",
    "    'Test 2': [235705, 432891, 618338, 804744, 1008301, 1207978, 1395246, 1582418, 1768728, 1959349],\n",
    "    'Test 3': [235705, 430735, 615320, 811212, 994072, 1183400, 1387484, 1593629, 1755792, 1958056]\n",
    "}\n",
    "\n",
    "df = pd.DataFrame(data_opt2)\n",
    "\n",
    "# Compute the average gas cost across the three tests for each user count\n",
    "df['Average Gas'] = df[['Test 1', 'Test 2', 'Test 3']].mean(axis=1)\n",
    "df"
   ]
  },
  {
   "cell_type": "code",
   "execution_count": 3,
   "metadata": {},
   "outputs": [],
   "source": [
    "# Refactor the DataFrame to have columns for different versions of the code\n",
    "df2 = df[['User Count', 'Average Gas']].rename(columns={'Average Gas': 'Optimised'})"
   ]
  },
  {
   "cell_type": "code",
   "execution_count": 4,
   "metadata": {},
   "outputs": [
    {
     "data": {
      "text/html": [
       "<div>\n",
       "<style scoped>\n",
       "    .dataframe tbody tr th:only-of-type {\n",
       "        vertical-align: middle;\n",
       "    }\n",
       "\n",
       "    .dataframe tbody tr th {\n",
       "        vertical-align: top;\n",
       "    }\n",
       "\n",
       "    .dataframe thead th {\n",
       "        text-align: right;\n",
       "    }\n",
       "</style>\n",
       "<table border=\"1\" class=\"dataframe\">\n",
       "  <thead>\n",
       "    <tr style=\"text-align: right;\">\n",
       "      <th></th>\n",
       "      <th>User Count</th>\n",
       "      <th>Optimised</th>\n",
       "    </tr>\n",
       "  </thead>\n",
       "  <tbody>\n",
       "    <tr>\n",
       "      <th>0</th>\n",
       "      <td>10</td>\n",
       "      <td>2.357050e+05</td>\n",
       "    </tr>\n",
       "    <tr>\n",
       "      <th>1</th>\n",
       "      <td>20</td>\n",
       "      <td>4.297287e+05</td>\n",
       "    </tr>\n",
       "    <tr>\n",
       "      <th>2</th>\n",
       "      <td>30</td>\n",
       "      <td>6.161820e+05</td>\n",
       "    </tr>\n",
       "    <tr>\n",
       "      <th>3</th>\n",
       "      <td>40</td>\n",
       "      <td>8.086247e+05</td>\n",
       "    </tr>\n",
       "    <tr>\n",
       "      <th>4</th>\n",
       "      <td>50</td>\n",
       "      <td>9.988150e+05</td>\n",
       "    </tr>\n",
       "    <tr>\n",
       "      <th>5</th>\n",
       "      <td>60</td>\n",
       "      <td>1.196767e+06</td>\n",
       "    </tr>\n",
       "    <tr>\n",
       "      <th>6</th>\n",
       "      <td>70</td>\n",
       "      <td>1.393952e+06</td>\n",
       "    </tr>\n",
       "    <tr>\n",
       "      <th>7</th>\n",
       "      <td>80</td>\n",
       "      <td>1.582130e+06</td>\n",
       "    </tr>\n",
       "    <tr>\n",
       "      <th>8</th>\n",
       "      <td>90</td>\n",
       "      <td>1.762835e+06</td>\n",
       "    </tr>\n",
       "    <tr>\n",
       "      <th>9</th>\n",
       "      <td>100</td>\n",
       "      <td>1.960643e+06</td>\n",
       "    </tr>\n",
       "  </tbody>\n",
       "</table>\n",
       "</div>"
      ],
      "text/plain": [
       "   User Count     Optimised\n",
       "0          10  2.357050e+05\n",
       "1          20  4.297287e+05\n",
       "2          30  6.161820e+05\n",
       "3          40  8.086247e+05\n",
       "4          50  9.988150e+05\n",
       "5          60  1.196767e+06\n",
       "6          70  1.393952e+06\n",
       "7          80  1.582130e+06\n",
       "8          90  1.762835e+06\n",
       "9         100  1.960643e+06"
      ]
     },
     "execution_count": 4,
     "metadata": {},
     "output_type": "execute_result"
    }
   ],
   "source": [
    "df2"
   ]
  },
  {
   "cell_type": "code",
   "execution_count": 5,
   "metadata": {},
   "outputs": [],
   "source": [
    "def plot_gas_costs(dataframe, save=False):\n",
    "    \"\"\"\n",
    "    Plot the gas costs for different versions of the code against the user count.\n",
    "    \n",
    "    Args:\n",
    "    - dataframe: DataFrame with 'User Count' as one column and other columns representing different code versions.\n",
    "    \"\"\"\n",
    "    # Set Seaborn style and palette\n",
    "    sns.set_style(\"whitegrid\", {'axes.edgecolor': '.8'})\n",
    "    sns.set_palette(\"pastel\")\n",
    "    # Set up the plot\n",
    "    plt.figure(figsize=(8, 4.5))\n",
    "    \n",
    "    # Loop through each version (column) in the dataframe except for 'User Count'\n",
    "    for version in dataframe.columns[1:]:\n",
    "        sns.lineplot(data=dataframe, x='User Count', y=version, marker='o', label=version, linewidth=2.5)\n",
    "    \n",
    "    # Add title, labels, and other aesthetics\n",
    "    print('Average Gas Costs vs. User Count')\n",
    "    plt.xlabel('User Count', fontsize=14)\n",
    "    plt.ylabel('Average Gas Costs', fontsize=14)\n",
    "    plt.xticks(fontsize=13)\n",
    "    plt.yticks(fontsize=13)\n",
    "    sns.despine()   # Remove the top and right axis spines\n",
    "    plt.legend()\n",
    "    plt.tight_layout()\n",
    "    if save:\n",
    "        file_path = 'charts/raffleScaling.png'\n",
    "        plt.savefig(file_path)\n",
    "    \n",
    "    plt.show()\n"
   ]
  },
  {
   "cell_type": "code",
   "execution_count": 6,
   "metadata": {},
   "outputs": [
    {
     "name": "stdout",
     "output_type": "stream",
     "text": [
      "Average Gas Costs vs. User Count\n"
     ]
    },
    {
     "data": {
      "image/png": "[encoded data removed]",
      "text/plain": [
       "<Figure size 800x450 with 1 Axes>"
      ]
     },
     "metadata": {},
     "output_type": "display_data"
    }
   ],
   "source": [
    "# Use the function to plot the current data\n",
    "plot_gas_costs(df2, save=True)"
   ]
  },
  {
   "cell_type": "code",
   "execution_count": null,
   "metadata": {},
   "outputs": [],
   "source": []
  }
 ],
 "metadata": {
  "kernelspec": {
   "display_name": "datasci",
   "language": "python",
   "name": "python3"
  },
  "language_info": {
   "codemirror_mode": {
    "name": "ipython",
    "version": 3
   },
   "file_extension": ".py",
   "mimetype": "text/x-python",
   "name": "python",
   "nbconvert_exporter": "python",
   "pygments_lexer": "ipython3",
   "version": "3.9.15"
  },
  "orig_nbformat": 4
 },
 "nbformat": 4,
 "nbformat_minor": 2
}
