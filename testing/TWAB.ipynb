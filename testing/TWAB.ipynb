{
 "cells": [
  {
   "cell_type": "markdown",
   "metadata": {},
   "source": [
    "Import packagaes"
   ]
  },
  {
   "cell_type": "code",
   "execution_count": 1,
   "metadata": {},
   "outputs": [],
   "source": [
    "import random, dateutil.parser\n",
    "from datetime import datetime, timedelta"
   ]
  },
  {
   "cell_type": "markdown",
   "metadata": {},
   "source": [
    "Define data structures"
   ]
  },
  {
   "cell_type": "code",
   "execution_count": 2,
   "metadata": {},
   "outputs": [],
   "source": [
    "userTwabs = []\n",
    "\n",
    "Twab = {\n",
    "    \"amount\": None,\n",
    "    \"timestamp\": None\n",
    "}\n"
   ]
  },
  {
   "cell_type": "markdown",
   "metadata": {},
   "source": [
    "Generate random Twabs"
   ]
  },
  {
   "cell_type": "code",
   "execution_count": 3,
   "metadata": {},
   "outputs": [
    {
     "name": "stdout",
     "output_type": "stream",
     "text": [
      "1691575643\n",
      "1691546442\n",
      "1691194256\n",
      "1690894063\n",
      "1691723658\n",
      "1692043138\n",
      "1691532072\n",
      "1691228781\n",
      "1690969202\n",
      "1691696753\n"
     ]
    }
   ],
   "source": [
    "# Define the current timestamp\n",
    "now = datetime.now()\n",
    "\n",
    "# Define the timestamp two weeks ago\n",
    "two_weeks_ago = now - timedelta(weeks=2)\n",
    "\n",
    "# Define a function to generate a random timestamp within the last two weeks\n",
    "def generate_random_timestamp():\n",
    "    random_timestamp = two_weeks_ago + (now - two_weeks_ago) * random.random()\n",
    "    return int(random_timestamp.timestamp())\n",
    "\n",
    "# Generate a list of 10 random timestamps within the last two weeks\n",
    "random_timestamps = [generate_random_timestamp() for _ in range(10)]\n",
    "\n",
    "for timestamp in random_timestamps:\n",
    "    print(timestamp)\n"
   ]
  },
  {
   "cell_type": "markdown",
   "metadata": {},
   "source": [
    "Now let's populate `userTwabs` with our randomised values"
   ]
  },
  {
   "cell_type": "code",
   "execution_count": 4,
   "metadata": {},
   "outputs": [],
   "source": [
    "# Initial balance\n",
    "balance = 0\n",
    "\n",
    "# Define a function to generate a random balance change with 1dp precision between -0.2 and 0.2 ETH\n",
    "def adjust_balance():\n",
    "    global balance\n",
    "    # Generate a random balance adjustment\n",
    "    adjustment = round(random.uniform(-0.2, 1), 1)\n",
    "\n",
    "    # Add the adjustment to the current balance, ensuring it doesn't go below 0\n",
    "    balance = round(max(0, balance + adjustment),1)\n",
    "    return balance"
   ]
  },
  {
   "cell_type": "code",
   "execution_count": 5,
   "metadata": {},
   "outputs": [
    {
     "name": "stdout",
     "output_type": "stream",
     "text": [
      "{'amount': 5.3, 'timestamp': 1690947338}\n",
      "{'amount': 5.7, 'timestamp': 1691121983}\n",
      "{'amount': 1.3, 'timestamp': 1691149440}\n",
      "{'amount': 2.8, 'timestamp': 1691461375}\n",
      "{'amount': 3.7, 'timestamp': 1691525581}\n",
      "{'amount': 2.0, 'timestamp': 1691664789}\n",
      "{'amount': 3.5, 'timestamp': 1691705348}\n",
      "{'amount': 0.4, 'timestamp': 1691737711}\n",
      "{'amount': 4.5, 'timestamp': 1691741438}\n",
      "{'amount': 6.0, 'timestamp': 1691845331}\n"
     ]
    }
   ],
   "source": [
    "# Define a function to generate a random balance with 1dp precision between 0 and 2 ETH\n",
    "def generate_random_balance():\n",
    "    return round(random.uniform(0, 2), 1)\n",
    "\n",
    "# Generate a list of 10 random Twabs within the last two weeks\n",
    "userTwabs = [{\"amount\": adjust_balance(), \"timestamp\": generate_random_timestamp()} for _ in range(10)]\n",
    "\n",
    "# Sort the list of Twabs by timestamp\n",
    "userTwabs.sort(key=lambda twab: twab[\"timestamp\"])\n",
    "\n",
    "for twab in userTwabs:\n",
    "    print(twab)\n"
   ]
  },
  {
   "cell_type": "markdown",
   "metadata": {},
   "source": [
    "Function to return timestamp from datetime string"
   ]
  },
  {
   "cell_type": "code",
   "execution_count": 6,
   "metadata": {},
   "outputs": [],
   "source": [
    "def convert_to_timestamp(datetime_string):\n",
    "    # Parse the datetime string\n",
    "    dt = dateutil.parser.parse(datetime_string)\n",
    "\n",
    "    # Convert to a Unix timestamp\n",
    "    timestamp = int(dt.timestamp())\n",
    "    \n",
    "    return timestamp"
   ]
  },
  {
   "cell_type": "code",
   "execution_count": 8,
   "metadata": {},
   "outputs": [
    {
     "name": "stdout",
     "output_type": "stream",
     "text": [
      "Raffle times:\n",
      "Start: 1691236800\n",
      "End: 1691841600\n"
     ]
    }
   ],
   "source": [
    "startTime = convert_to_timestamp('Sat 5th August 2023 13:00')\n",
    "endTime = convert_to_timestamp('Sat 12nd August 2023 13:00')\n",
    "\n",
    "print('Raffle times:')\n",
    "print(f'Start: {startTime}')\n",
    "print(f'End: {endTime}')"
   ]
  },
  {
   "cell_type": "markdown",
   "metadata": {},
   "source": [
    "Now, let's write a formula for calculating the average `amount` held by a user between the timestamps `startTime` and `endTime`.\n",
    "\n",
    "The random values we created represent snapshots of a user's balance, these snapshots are taken whenever a change of balance occurs. Therefore, we can assume the balance before the first timestamp is 0, and we can assume the balance after the last timestamp is same as the balance at that last timestamp."
   ]
  },
  {
   "cell_type": "markdown",
   "metadata": {},
   "source": [
    "First, let's write a function for finding the index of the dictionary (in the `userTwabs` array) that contains the amount and timestamp immediately preceding `startTime`."
   ]
  },
  {
   "cell_type": "markdown",
   "metadata": {},
   "source": [
    "**Binary search**:\n",
    "- efficient algorithm for finding an item from a sorted list of items\n",
    "    - `userTwabs` is the list of TWABs sorted in ascending order by timestamp\n",
    "- works by repeatedly dividing the search interval in half.\n",
    "1. Start with the middle item: If the target value is equal to the middle item of the array, then return the index of the middle item.\n",
    "2. If the target value is less than the middle item, continue the search in the lower half of the array. Ignore the upper half of the array since the target value, being smaller than the middle item, can't be in the upper half.\n",
    "3. If the target value is greater than the middle item, do the opposite. Continue the search in the upper half of the array and ignore the lower half.\n",
    "4. Repeat these steps until the target value is found or until the subarray is empty (i.e., the start index is greater than the end index)."
   ]
  },
  {
   "cell_type": "code",
   "execution_count": 9,
   "metadata": {},
   "outputs": [],
   "source": [
    "def find_preceding_timestamp_index(user_twabs, startTime):\n",
    "    start = 0\n",
    "    end = len(user_twabs) - 1\n",
    "\n",
    "    while start <= end:\n",
    "        mid = start + (end - start) // 2\n",
    "\n",
    "        if user_twabs[mid]['timestamp'] < startTime:\n",
    "            if mid + 1 < len(user_twabs) and user_twabs[mid + 1]['timestamp'] >= startTime:\n",
    "                return mid\n",
    "            start = mid + 1\n",
    "        else:\n",
    "            end = mid - 1\n",
    "    return None"
   ]
  },
  {
   "cell_type": "markdown",
   "metadata": {},
   "source": [
    "Why use binary search? Efficiency: In a list of n items, binary search can find a target value in at most log2(n) steps, which is significantly faster than a linear search, especially for large lists. This is because with each step, binary search reduces the size of the search space by half."
   ]
  },
  {
   "cell_type": "code",
   "execution_count": 10,
   "metadata": {},
   "outputs": [
    {
     "name": "stdout",
     "output_type": "stream",
     "text": [
      "2\n"
     ]
    }
   ],
   "source": [
    "index = find_preceding_timestamp_index(userTwabs, startTime)\n",
    "print(index)"
   ]
  },
  {
   "cell_type": "markdown",
   "metadata": {},
   "source": [
    "Now let's calculate the average balance of the user between startTime and endTime. We can iterate through the sorted `userTwabs` array and sum up the products of each balance and the duration it was held. Then, divide that sum by the total duration between startTime and endTime.\n",
    "\n",
    "Since we are linearly extrapolating balances, if startTime or endTime falls between two balance timestamps, we will assume that the balance changes linearly between the two timestamps."
   ]
  },
  {
   "cell_type": "code",
   "execution_count": 11,
   "metadata": {},
   "outputs": [
    {
     "name": "stdout",
     "output_type": "stream",
     "text": [
      "The average balance between 1691236800 and 1691841600 is 2.7007 ETH.\n"
     ]
    }
   ],
   "source": [
    "def calculate_average_balance(user_twabs, startTime, endTime):\n",
    "    # Find the index of the timestamp immediately preceding the startTime\n",
    "    preceding_index = find_preceding_timestamp_index(user_twabs, startTime)\n",
    "\n",
    "    # Initialise variables\n",
    "    total_balance_duration = 0.0\n",
    "    prev_timestamp = startTime\n",
    "    prev_balance = 0.0 if preceding_index is None else user_twabs[preceding_index]['amount']\n",
    "\n",
    "    for twab in user_twabs[preceding_index + 1:]:\n",
    "        if twab['timestamp'] > endTime:\n",
    "            break\n",
    "\n",
    "        duration = twab['timestamp'] - prev_timestamp\n",
    "        total_balance_duration += prev_balance * duration\n",
    "\n",
    "        prev_timestamp = twab['timestamp']\n",
    "        prev_balance = twab['amount']\n",
    "\n",
    "    # Add the balance_duration for the last part\n",
    "    final_duration = endTime - prev_timestamp\n",
    "    total_balance_duration += prev_balance * final_duration\n",
    "\n",
    "    return total_balance_duration / (endTime - startTime)\n",
    "\n",
    "average_balance = calculate_average_balance(userTwabs, startTime, endTime)\n",
    "\n",
    "print(f'The average balance between {startTime} and {endTime} is {average_balance:.4f} ETH.')"
   ]
  },
  {
   "cell_type": "markdown",
   "metadata": {},
   "source": [
    "1. Initialise necessary variables: The function initialises some necessary variables - total_balance_duration is set to 0.0, it will accumulate the total time-weighted balance, and prev_timestamp and prev_balance are set to the timestamp and balance just before the startTime. If there's no such timestamp (i.e., startTime is before all recorded timestamps), prev_balance is assumed to be 0.0.\n",
    "\n",
    "2. Iterate through TWABs: The function then iterates over the list of `userTwabs`, starting from the first timestamp after startTime.\n",
    "\n",
    "3. Calculate the balance duration for each interval: For each timestamp, the function calculates the duration that the previous balance was held (i.e., the difference in timestamps) and adds the product of the balance and the duration to total_balance_duration. This is based on the assumption that the balance remained constant during each interval between two timestamps.\n",
    "\n",
    "4. Update the previous timestamp and balance: The prev_timestamp and prev_balance variables are updated for the next iteration.\n",
    "\n",
    "5. Break when the timestamp exceeds endTime: The loop breaks when a timestamp is found that exceeds the endTime. This ensures that balances held after the endTime are not included in the calculation.\n",
    "\n",
    "6. Handle the final interval: After breaking the loop, the function handles the final interval from the last timestamp to endTime. It assumes that the balance remained constant during this interval and adds the product of the balance and the duration to total_balance_duration.\n",
    "\n",
    "7. Calculate and return the average balance: Finally, the function calculates the average balance by dividing total_balance_duration by the total duration between startTime and endTime."
   ]
  },
  {
   "cell_type": "code",
   "execution_count": 12,
   "metadata": {},
   "outputs": [
    {
     "data": {
      "image/png": "[encoded data removed]",
      "text/plain": [
       "<Figure size 1000x500 with 1 Axes>"
      ]
     },
     "metadata": {},
     "output_type": "display_data"
    }
   ],
   "source": [
    "import matplotlib.pyplot as plt\n",
    "import matplotlib.dates as mdates\n",
    "\n",
    "# Convert the Unix timestamps to datetime objects for easier plotting\n",
    "timestamps = [datetime.fromtimestamp(twab['timestamp']) for twab in userTwabs]\n",
    "balances = [twab['amount'] for twab in userTwabs]\n",
    "\n",
    "plt.figure(figsize=(10,5))\n",
    "\n",
    "# Plot the data as a step plot\n",
    "plt.step(timestamps, balances, where='post')\n",
    "\n",
    "# Format the x-axis to display dates nicely\n",
    "plt.gca().xaxis.set_major_formatter(mdates.DateFormatter('%m/%d/%Y'))\n",
    "plt.gca().xaxis.set_major_locator(mdates.DayLocator())\n",
    "plt.gcf().autofmt_xdate()\n",
    "\n",
    "# Set the title and labels\n",
    "plt.title('User Balance Over Time')\n",
    "plt.xlabel('Time')\n",
    "plt.ylabel('Balance (ETH)')\n",
    "\n",
    "# Display the plot\n",
    "plt.show()\n"
   ]
  },
  {
   "cell_type": "code",
   "execution_count": 22,
   "metadata": {},
   "outputs": [
    {
     "data": {
      "text/html": [
       "\n",
       "<style>\n",
       "  #altair-viz-06a92ab486e94747954ac13eeefebb43.vega-embed {\n",
       "    width: 100%;\n",
       "    display: flex;\n",
       "  }\n",
       "\n",
       "  #altair-viz-06a92ab486e94747954ac13eeefebb43.vega-embed details,\n",
       "  #altair-viz-06a92ab486e94747954ac13eeefebb43.vega-embed details summary {\n",
       "    position: relative;\n",
       "  }\n",
       "</style>\n",
       "<div id=\"altair-viz-06a92ab486e94747954ac13eeefebb43\"></div>\n",
       "<script type=\"text/javascript\">\n",
       "  var VEGA_DEBUG = (typeof VEGA_DEBUG == \"undefined\") ? {} : VEGA_DEBUG;\n",
       "  (function(spec, embedOpt){\n",
       "    let outputDiv = document.currentScript.previousElementSibling;\n",
       "    if (outputDiv.id !== \"altair-viz-06a92ab486e94747954ac13eeefebb43\") {\n",
       "      outputDiv = document.getElementById(\"altair-viz-06a92ab486e94747954ac13eeefebb43\");\n",
       "    }\n",
       "    const paths = {\n",
       "      \"vega\": \"https://cdn.jsdelivr.net/npm/vega@5?noext\",\n",
       "      \"vega-lib\": \"https://cdn.jsdelivr.net/npm/vega-lib?noext\",\n",
       "      \"vega-lite\": \"https://cdn.jsdelivr.net/npm/vega-lite@5.8.0?noext\",\n",
       "      \"vega-embed\": \"https://cdn.jsdelivr.net/npm/vega-embed@6?noext\",\n",
       "    };\n",
       "\n",
       "    function maybeLoadScript(lib, version) {\n",
       "      var key = `${lib.replace(\"-\", \"\")}_version`;\n",
       "      return (VEGA_DEBUG[key] == version) ?\n",
       "        Promise.resolve(paths[lib]) :\n",
       "        new Promise(function(resolve, reject) {\n",
       "          var s = document.createElement('script');\n",
       "          document.getElementsByTagName(\"head\")[0].appendChild(s);\n",
       "          s.async = true;\n",
       "          s.onload = () => {\n",
       "            VEGA_DEBUG[key] = version;\n",
       "            return resolve(paths[lib]);\n",
       "          };\n",
       "          s.onerror = () => reject(`Error loading script: ${paths[lib]}`);\n",
       "          s.src = paths[lib];\n",
       "        });\n",
       "    }\n",
       "\n",
       "    function showError(err) {\n",
       "      outputDiv.innerHTML = `<div class=\"error\" style=\"color:red;\">${err}</div>`;\n",
       "      throw err;\n",
       "    }\n",
       "\n",
       "    function displayChart(vegaEmbed) {\n",
       "      vegaEmbed(outputDiv, spec, embedOpt)\n",
       "        .catch(err => showError(`Javascript Error: ${err.message}<br>This usually means there's a typo in your chart specification. See the javascript console for the full traceback.`));\n",
       "    }\n",
       "\n",
       "    if(typeof define === \"function\" && define.amd) {\n",
       "      requirejs.config({paths});\n",
       "      require([\"vega-embed\"], displayChart, err => showError(`Error loading script: ${err.message}`));\n",
       "    } else {\n",
       "      maybeLoadScript(\"vega\", \"5\")\n",
       "        .then(() => maybeLoadScript(\"vega-lite\", \"5.8.0\"))\n",
       "        .then(() => maybeLoadScript(\"vega-embed\", \"6\"))\n",
       "        .catch(showError)\n",
       "        .then(() => displayChart(vegaEmbed));\n",
       "    }\n",
       "  })({\"config\": {\"view\": {\"continuousWidth\": 300, \"continuousHeight\": 300}}, \"layer\": [{\"data\": {\"name\": \"data-873a35d2b800af112916fd1e0901a090\"}, \"mark\": {\"type\": \"line\", \"interpolate\": \"step-after\"}, \"encoding\": {\"x\": {\"axis\": {\"format\": \"%a %d\", \"title\": \"Time\"}, \"field\": \"Time\", \"type\": \"temporal\"}, \"y\": {\"field\": \"Balance\", \"type\": \"quantitative\"}}, \"title\": \"User Balance Over Time\"}, {\"data\": {\"name\": \"data-19847f7dde9288eca6b0edb0dd3bd154\"}, \"mark\": {\"type\": \"rule\", \"color\": \"red\", \"strokeDash\": [5, 5]}, \"encoding\": {\"x\": {\"field\": \"Time\", \"type\": \"temporal\"}}}, {\"data\": {\"name\": \"data-dc0d7caf0eb7cc5a3400ac3f4977dbcb\"}, \"mark\": {\"type\": \"rule\", \"color\": \"red\", \"strokeDash\": [5, 5]}, \"encoding\": {\"x\": {\"field\": \"Time\", \"type\": \"temporal\"}}}], \"width\": 600, \"$schema\": \"https://vega.github.io/schema/vega-lite/v5.8.0.json\", \"datasets\": {\"data-873a35d2b800af112916fd1e0901a090\": [{\"Time\": \"2023-08-02T03:35:38\", \"Balance\": 5.3}, {\"Time\": \"2023-08-04T04:06:23\", \"Balance\": 5.7}, {\"Time\": \"2023-08-04T11:44:00\", \"Balance\": 1.3}, {\"Time\": \"2023-08-08T02:22:55\", \"Balance\": 2.8}, {\"Time\": \"2023-08-08T20:13:01\", \"Balance\": 3.7}, {\"Time\": \"2023-08-10T10:53:09\", \"Balance\": 2.0}, {\"Time\": \"2023-08-10T22:09:08\", \"Balance\": 3.5}, {\"Time\": \"2023-08-11T07:08:31\", \"Balance\": 0.4}, {\"Time\": \"2023-08-11T08:10:38\", \"Balance\": 4.5}, {\"Time\": \"2023-08-12T13:02:11\", \"Balance\": 6.0}], \"data-19847f7dde9288eca6b0edb0dd3bd154\": [{\"Time\": \"2023-08-05T12:00:00\"}], \"data-dc0d7caf0eb7cc5a3400ac3f4977dbcb\": [{\"Time\": \"2023-08-12T12:00:00\"}]}}, {\"mode\": \"vega-lite\"});\n",
       "</script>"
      ],
      "text/plain": [
       "alt.LayerChart(...)"
      ]
     },
     "execution_count": 22,
     "metadata": {},
     "output_type": "execute_result"
    }
   ],
   "source": [
    "import altair as alt\n",
    "import pandas as pd\n",
    "\n",
    "# Convert the Unix timestamps to datetime objects for easier plotting\n",
    "timestamps = [pd.to_datetime(twab['timestamp'], unit='s') for twab in userTwabs]\n",
    "balances = [twab['amount'] for twab in userTwabs]\n",
    "\n",
    "# Create a dataframe from the timestamps and balances\n",
    "df = pd.DataFrame({'Time': timestamps, 'Balance': balances})\n",
    "\n",
    "# Create the base line chart\n",
    "base = alt.Chart(df).mark_line(interpolate='step-after').encode(\n",
    "    x= alt.X('Time:T', axis=alt.Axis(format='%a %d', title='Time')),\n",
    "    y='Balance:Q'\n",
    ").properties(\n",
    "    title='User Balance Over Time',\n",
    "    width=600\n",
    ")\n",
    "\n",
    "# Add vertical dashed lines for the start and end times of the raffle\n",
    "start_time = pd.to_datetime(startTime, unit='s')\n",
    "end_time = pd.to_datetime(endTime, unit='s')\n",
    "start_line = alt.Chart(pd.DataFrame({'Time': [start_time]})).mark_rule(color='red', strokeDash=[5,5]).encode(x='Time:T')\n",
    "end_line = alt.Chart(pd.DataFrame({'Time': [end_time]})).mark_rule(color='red', strokeDash=[5,5]).encode(x='Time:T')\n",
    "\n",
    "# Combine the line chart and the vertical lines\n",
    "chart = alt.layer(base, start_line, end_line)\n",
    "\n",
    "# Display the chart\n",
    "chart"
   ]
  },
  {
   "cell_type": "code",
   "execution_count": null,
   "metadata": {},
   "outputs": [],
   "source": []
  }
 ],
 "metadata": {
  "kernelspec": {
   "display_name": "datasci",
   "language": "python",
   "name": "python3"
  },
  "language_info": {
   "codemirror_mode": {
    "name": "ipython",
    "version": 3
   },
   "file_extension": ".py",
   "mimetype": "text/x-python",
   "name": "python",
   "nbconvert_exporter": "python",
   "pygments_lexer": "ipython3",
   "version": "3.9.15"
  },
  "orig_nbformat": 4
 },
 "nbformat": 4,
 "nbformat_minor": 2
}
